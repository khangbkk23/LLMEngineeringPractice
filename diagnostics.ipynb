{
 "cells": [
  {
   "cell_type": "markdown",
   "id": "2a27a564",
   "metadata": {},
   "source": [
    "# Gathering Essential Diagnostic information"
   ]
  },
  {
   "cell_type": "markdown",
   "id": "43627099",
   "metadata": {
    "vscode": {
     "languageId": "plaintext"
    }
   },
   "source": [
    "Please run the next cell; it should take a minute or so to run (mostly the network test). Rhen email me the output of the last cell to ed@edwarddonner.com.\n",
    "Alternatively: this will create a file called report.txt - just attach the file to your email."
   ]
  },
  {
   "cell_type": "code",
   "execution_count": null,
   "id": "f7f51f25",
   "metadata": {},
   "outputs": [
    {
     "name": "stdout",
     "output_type": "stream",
     "text": [
      "Starting diagnostics at 2025-09-15 08:50:30\n",
      "\n",
      "===== System Information =====\n",
      "Operating System: Linux\n",
      "Platform: Linux-6.6.87.1-microsoft-standard-WSL2-x86_64-with-glibc2.35\n",
      "Architecture: ('64bit', 'ELF')\n",
      "Machine: x86_64\n",
      "Processor: x86_64\n",
      "Total RAM: 11.55 GB\n",
      "Available RAM: 8.80 GB\n",
      "Free Disk Space: 868.55 GB\n",
      "\n",
      "===== File System Information =====\n",
      "Current Directory: /mnt/e/Development/Python/LLMEngineering/LLMEngineeringPractice\n",
      "Write permission: OK\n",
      "\n",
      "Files in Current Directory:\n",
      " - .env\n",
      " - .git\n",
      " - .gitignore\n",
      " - LICENSE\n",
      " - README.md\n",
      " - Week_1\n",
      " - __pycache__\n",
      " - diagnostics.ipynb\n",
      " - diagnostics.py\n",
      " - environment.yml\n",
      " - openAI.md\n",
      " - report.txt\n",
      " - requirements.txt\n",
      " - troubleshooting.ipynb\n",
      "\n",
      "===== Git Repository Information =====\n",
      "Git Repository Root: /mnt/e/Development/Python/LLMEngineering/LLMEngineeringPractice\n",
      "Current Commit: 3b5a2335ea2ab36d4ed406f3dacd7a167487cda0\n",
      "Remote Origin: https://github.com/khangbkk23/LLMEngineeringPractice.git\n",
      "\n",
      "===== Environment File Check =====\n",
      ".env file exists at: /mnt/e/Development/Python/LLMEngineering/LLMEngineeringPractice/.env\n",
      "WARNING: OPENAI_API_KEY not found in .env file\n",
      "\n",
      "===== Anaconda Environment Check =====\n",
      "Anaconda environment is active:\n",
      "Environment Path: /home/dikhang_hcmut/miniconda3/envs/llms\n",
      "Environment Name: llms\n",
      "Conda Version: conda 25.3.1\n",
      "\n",
      "Python Environment:\n",
      "Python Version: 3.11.13 | packaged by conda-forge | (main, Jun  4 2025, 14:48:23) [GCC 13.3.0]\n",
      "Python Executable: /home/dikhang_hcmut/miniconda3/envs/llms/bin/python\n"
     ]
    },
    {
     "name": "stderr",
     "output_type": "stream",
     "text": [
      "/mnt/e/Development/Python/LLMEngineering/LLMEngineeringPractice/diagnostics.py:255: UserWarning: pkg_resources is deprecated as an API. See https://setuptools.pypa.io/en/latest/pkg_resources.html. The pkg_resources package is slated for removal as early as 2025-11-30. Refrain from using this package or pin to Setuptools<81.\n",
      "  import pkg_resources\n"
     ]
    },
    {
     "name": "stdout",
     "output_type": "stream",
     "text": [
      "\n",
      "Required Package Versions:\n",
      "openai: 1.107.2\n",
      "python-dotenv: 1.1.1\n",
      "requests: 2.32.5\n",
      "gradio: 5.45.0\n",
      "transformers: 4.56.1\n",
      "\n",
      "===== Virtualenv Check =====\n",
      "No active virtualenv detected\n",
      "\n",
      "===== Network Connectivity Check =====\n",
      "SSL Version: OpenSSL 3.5.2 5 Aug 2025\n",
      "✓ Connected to https://www.google.com\n",
      "  Response time: 0.18s\n",
      "\n",
      "Performing bandwidth test using speedtest-cli...\n"
     ]
    }
   ],
   "source": [
    "# Run my diagnostics report to collect key information for debugging\n",
    "# Please email me the results. Either copy & paste the output, or attach the file report.txt\n",
    "\n",
    "!pip install -q requests speedtest-cli psutil setuptools\n",
    "from diagnostics import Diagnostics\n",
    "Diagnostics().run()"
   ]
  }
 ],
 "metadata": {
  "kernelspec": {
   "display_name": "llms",
   "language": "python",
   "name": "python3"
  },
  "language_info": {
   "codemirror_mode": {
    "name": "ipython",
    "version": 3
   },
   "file_extension": ".py",
   "mimetype": "text/x-python",
   "name": "python",
   "nbconvert_exporter": "python",
   "pygments_lexer": "ipython3",
   "version": "3.11.13"
  }
 },
 "nbformat": 4,
 "nbformat_minor": 5
}

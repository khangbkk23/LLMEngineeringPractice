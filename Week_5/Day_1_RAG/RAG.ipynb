{
 "cells": [
  {
   "cell_type": "markdown",
   "id": "258339e5",
   "metadata": {},
   "source": [
    "# RAG SYSTEM LLMs"
   ]
  },
  {
   "cell_type": "code",
   "execution_count": 1,
   "id": "a4826a06",
   "metadata": {},
   "outputs": [],
   "source": [
    "# Import libraries\n",
    "import os\n",
    "import glob\n",
    "\n",
    "from dotenv import load_dotenv\n",
    "import gradio as gr\n",
    "from openai import OpenAI"
   ]
  },
  {
   "cell_type": "code",
   "execution_count": null,
   "id": "0f284f98",
   "metadata": {},
   "outputs": [
    {
     "name": "stdout",
     "output_type": "stream",
     "text": [
      "Cannot find this zipfile.\n"
     ]
    }
   ],
   "source": [
    "# Unzip the data files\n",
    "import zipfile\n",
    "def unzip_file(path, data_dir, delete=True):\n",
    "    if not os.path.exists(path):\n",
    "        print(\"Cannot find this zipfile.\")\n",
    "        return\n",
    "    \n",
    "    if path.endswith(\".zip\"):\n",
    "        with zipfile.ZipFile(path, \"r\") as zipref:\n",
    "            zipref.extractall(data_dir)\n",
    "            print(\"Unzip succesfully to:\",data_dir)\n",
    "        if delete:\n",
    "            os.remove(path)\n",
    "            print(\"Deleted zipfile.\")\n",
    "            return\n",
    "    else:\n",
    "        print(f\"This format file is not accepted: {path}\")\n",
    "\n",
    "data_dir = \"../data\"\n",
    "path = f\"{data_dir}/knowledge-base.zip\"\n",
    "\n",
    "unzip_file(path=path,data_dir=data_dir)\n",
    "\n"
   ]
  },
  {
   "cell_type": "code",
   "execution_count": 9,
   "id": "a605b5da",
   "metadata": {},
   "outputs": [
    {
     "name": "stdout",
     "output_type": "stream",
     "text": [
      "../data/knowledge-base\n"
     ]
    }
   ],
   "source": [
    "data_path = os.path.join(data_dir, \"knowledge-base\")\n",
    "print(data_path)"
   ]
  },
  {
   "cell_type": "code",
   "execution_count": 10,
   "id": "a34ac5a1",
   "metadata": {},
   "outputs": [],
   "source": [
    "# Hyperparameters\n",
    "load_dotenv()\n",
    "OPENAI_API_KEY = os.getenv(\"OPENAI_API_KEY\", 'your_api_key_here')\n",
    "MODEL_NAME = \"gpt-4o-mini\"\n",
    "TEMPERATURE = 0.1\n",
    "\n",
    "openai = OpenAI()"
   ]
  },
  {
   "cell_type": "markdown",
   "id": "c1ca5450",
   "metadata": {},
   "source": [
    "## Add date to the context"
   ]
  },
  {
   "cell_type": "markdown",
   "id": "2ca5abdf",
   "metadata": {},
   "source": [
    "### Add employees data to the context"
   ]
  },
  {
   "cell_type": "code",
   "execution_count": 17,
   "id": "15b34500",
   "metadata": {},
   "outputs": [],
   "source": [
    "context = {}\n",
    "employees_dir = os.path.join(data_path, \"employees/*\")\n",
    "employees = glob.glob(employees_dir)\n",
    "\n",
    "for employee in employees:\n",
    "    name = employee.split(' ')[-1][:-3]\n",
    "    doc = \"\"\n",
    "    with open(employee, \"r\", encoding=\"utf-8\") as f:\n",
    "        doc = f.read()\n",
    "    context[name]=doc"
   ]
  },
  {
   "cell_type": "code",
   "execution_count": 14,
   "id": "fb5f82e3",
   "metadata": {},
   "outputs": [
    {
     "data": {
      "text/plain": [
       "dict_keys(['Carter', 'Greene', 'Thomson', 'Tran', 'Thompson', 'Chen', 'Trenton', 'Harper', 'Blake', 'Lancaster', 'Bishop', 'Spencer'])"
      ]
     },
     "execution_count": 14,
     "metadata": {},
     "output_type": "execute_result"
    }
   ],
   "source": [
    "context.keys()"
   ]
  },
  {
   "cell_type": "code",
   "execution_count": 13,
   "id": "0f925460",
   "metadata": {},
   "outputs": [
    {
     "data": {
      "text/plain": [
       "\"# Avery Lancaster\\n\\n## Summary\\n- **Date of Birth**: March 15, 1985  \\n- **Job Title**: Co-Founder & Chief Executive Officer (CEO)  \\n- **Location**: San Francisco, California  \\n\\n## Insurellm Career Progression\\n- **2015 - Present**: Co-Founder & CEO  \\n  Avery Lancaster co-founded Insurellm in 2015 and has since guided the company to its current position as a leading Insurance Tech provider. Avery is known for her innovative leadership strategies and risk management expertise that have catapulted the company into the mainstream insurance market.  \\n\\n- **2013 - 2015**: Senior Product Manager at Innovate Insurance Solutions  \\n  Before launching Insurellm, Avery was a leading Senior Product Manager at Innovate Insurance Solutions, where she developed groundbreaking insurance products aimed at the tech sector.  \\n\\n- **2010 - 2013**: Business Analyst at Edge Analytics  \\n  Prior to joining Innovate, Avery worked as a Business Analyst, focusing on market trends and consumer preferences in the insurance space. This position laid the groundwork for Avery’s future entrepreneurial endeavors.\\n\\n## Annual Performance History\\n- **2015**: **Exceeds Expectations**  \\n  Avery’s leadership during Insurellm's foundational year led to successful product launches and securing initial funding.  \\n\\n- **2016**: **Meets Expectations**  \\n  Growth continued, though challenges arose in operational efficiency that required Avery's attention.  \\n\\n- **2017**: **Developing**  \\n  Market competition intensified, and monthly sales metrics were below targets. Avery implemented new strategies which required a steep learning curve.  \\n\\n- **2018**: **Exceeds Expectations**  \\n  Under Avery’s pivoted vision, Insurellm launched two new successful products that significantly increased market share.  \\n\\n- **2019**: **Meets Expectations**  \\n  Steady growth, however, some team tensions led to a minor drop in employee morale. Avery recognized the need to enhance company culture.  \\n\\n- **2020**: **Below Expectations**  \\n  The COVID-19 pandemic posed unforeseen operational difficulties. Avery faced criticism for delayed strategy shifts, although efforts were eventually made to stabilize the company.  \\n\\n- **2021**: **Exceptional**  \\n  Avery's decisive transition to remote work and rapid adoption of digital tools led to record-high customer satisfaction levels and increased sales.  \\n\\n- **2022**: **Satisfactory**  \\n  Avery focused on rebuilding team dynamics and addressing employee concerns, leading to overall improvement despite a saturated market.  \\n\\n- **2023**: **Exceeds Expectations**  \\n  Market leadership was regained with innovative approaches to personalized insurance solutions. Avery is now recognized in industry publications as a leading voice in Insurance Tech innovation.\\n\\n## Compensation History\\n- **2015**: $150,000 base salary + Significant equity stake  \\n- **2016**: $160,000 base salary + Equity increase  \\n- **2017**: $150,000 base salary + Decrease in bonus due to performance  \\n- **2018**: $180,000 base salary + performance bonus of $30,000  \\n- **2019**: $185,000 base salary + market adjustment + $5,000 bonus  \\n- **2020**: $170,000 base salary (temporary reduction due to COVID-19)  \\n- **2021**: $200,000 base salary + performance bonus of $50,000  \\n- **2022**: $210,000 base salary + retention bonus  \\n- **2023**: $225,000 base salary + $75,000 performance bonus  \\n\\n## Other HR Notes\\n- **Professional Development**: Avery has actively participated in leadership training programs and industry conferences, representing Insurellm and fostering partnerships.  \\n- **Diversity & Inclusion Initiatives**: Avery has championed a commitment to diversity in hiring practices, seeing visible improvements in team representation since 2021.  \\n- **Work-Life Balance**: Feedback revealed concerns regarding work-life balance, which Avery has approached by implementing flexible working conditions and ensuring regular check-ins with the team.\\n- **Community Engagement**: Avery led community outreach efforts, focusing on financial literacy programs, particularly aimed at underserved populations, improving Insurellm's corporate social responsibility image.  \\n\\nAvery Lancaster has demonstrated resilience and adaptability throughout her career at Insurellm, positioning the company as a key player in the insurance technology landscape.\""
      ]
     },
     "execution_count": 13,
     "metadata": {},
     "output_type": "execute_result"
    }
   ],
   "source": [
    "context[\"Lancaster\"]"
   ]
  },
  {
   "cell_type": "code",
   "execution_count": 36,
   "id": "73e61cf5",
   "metadata": {},
   "outputs": [],
   "source": [
    "class ContextRetriever:\n",
    "    def __init__(self, docs_path=\"docs/*.txt\"):\n",
    "        self.docs_path = docs_path\n",
    "        self.documents = self.load_documents()\n",
    "        self.context = self.load_documents()\n",
    "\n",
    "    def load_documents(self):\n",
    "        documents = {}\n",
    "        for file_path in glob.glob(self.docs_path):\n",
    "            name = os.path.splitext(os.path.basename(file_path))[0]\n",
    "            with open(file_path, 'r', encoding='utf-8') as file:\n",
    "                documents[name] = file.read()\n",
    "        return documents\n",
    "\n",
    "    def retrieve(self, query, top_k=3):\n",
    "        scored_docs = [\n",
    "            (name, doc, doc.lower().count(query.lower()))\n",
    "            for name, doc in self.documents.items()\n",
    "        ]\n",
    "        scored_docs.sort(key=lambda x: x[2], reverse=True)\n",
    "        results = [(name, doc) for name, doc, score in scored_docs[:top_k] if score > 0]\n",
    "        if not results:\n",
    "            print(f\"Not found any document matching: '{query}'\")\n",
    "        return results\n",
    "    \n",
    "    def add_context(self, title, details):\n",
    "        \"\"\"Thêm 1 context thủ công vào biến self.context\"\"\"\n",
    "        self.context[title] = details\n",
    "\n",
    "    def get_relevant_context(self, message):\n",
    "        relevant_context = []\n",
    "        msg_lower = message.lower()\n",
    "        for context_title, context_details in self.context.items():\n",
    "            title_processed = context_title.lower().replace(\"_\", \" \")\n",
    "            if title_processed in msg_lower:\n",
    "                relevant_context.append(context_details)\n",
    "        return relevant_context\n"
   ]
  },
  {
   "cell_type": "code",
   "execution_count": 35,
   "id": "81b4d185",
   "metadata": {},
   "outputs": [
    {
     "name": "stdout",
     "output_type": "stream",
     "text": [
      "[]\n"
     ]
    }
   ],
   "source": [
    "retriever = ContextRetriever()\n",
    "msg = \"Tell me about Lancaster and Employee Policy\"\n",
    "print(retriever.get_relevant_context(msg))"
   ]
  },
  {
   "cell_type": "code",
   "execution_count": 33,
   "id": "93b3b073",
   "metadata": {},
   "outputs": [
    {
     "name": "stdout",
     "output_type": "stream",
     "text": [
      "[]\n"
     ]
    }
   ],
   "source": [
    "print(retriever.get_relevant_context(\"Who is Alex Lancaster?\"))"
   ]
  },
  {
   "cell_type": "markdown",
   "id": "5e048f30",
   "metadata": {},
   "source": [
    "### Load product data to the context"
   ]
  },
  {
   "cell_type": "code",
   "execution_count": 26,
   "id": "c81a7897",
   "metadata": {},
   "outputs": [],
   "source": [
    "### Retrieve the product\n",
    "product_dir = os.path.join(data_path, \"products\", \"*\")\n",
    "\n",
    "retriever_product = ContextRetriever(docs_path=product_dir)\n",
    "\n",
    "results = retriever_product.retrieve(\"Lancaster\", top_k=2)\n",
    "for name, doc in results:\n",
    "    print(f\"Found in {name}:\\n{doc[:500]}...\\n\")"
   ]
  }
 ],
 "metadata": {
  "kernelspec": {
   "display_name": "llms",
   "language": "python",
   "name": "python3"
  },
  "language_info": {
   "codemirror_mode": {
    "name": "ipython",
    "version": 3
   },
   "file_extension": ".py",
   "mimetype": "text/x-python",
   "name": "python",
   "nbconvert_exporter": "python",
   "pygments_lexer": "ipython3",
   "version": "3.11.13"
  }
 },
 "nbformat": 4,
 "nbformat_minor": 5
}

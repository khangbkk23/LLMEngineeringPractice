{
 "cells": [
  {
   "cell_type": "markdown",
   "id": "258339e5",
   "metadata": {},
   "source": [
    "# RAG SYSTEM LLMs"
   ]
  },
  {
   "cell_type": "code",
   "execution_count": 2,
   "id": "a4826a06",
   "metadata": {},
   "outputs": [],
   "source": [
    "# Import libraries\n",
    "import os\n",
    "import glob\n",
    "\n",
    "from dotenv import load_dotenv\n",
    "import gradio as gr\n",
    "from openai import OpenAI"
   ]
  },
  {
   "cell_type": "code",
   "execution_count": null,
   "id": "a34ac5a1",
   "metadata": {},
   "outputs": [],
   "source": [
    "# Hyperparameters\n",
    "load_dotenv()\n",
    "OPENAI_API_KEY = os.getenv(\"OPENAI_API_KEY\")\n",
    "MODEL_NAME = \"gpt-4o-mini\"\n",
    "TEMPERATURE = 0.1"
   ]
  }
 ],
 "metadata": {
  "kernelspec": {
   "display_name": "llms",
   "language": "python",
   "name": "python3"
  },
  "language_info": {
   "codemirror_mode": {
    "name": "ipython",
    "version": 3
   },
   "file_extension": ".py",
   "mimetype": "text/x-python",
   "name": "python",
   "nbconvert_exporter": "python",
   "pygments_lexer": "ipython3",
   "version": "3.11.13"
  }
 },
 "nbformat": 4,
 "nbformat_minor": 5
}

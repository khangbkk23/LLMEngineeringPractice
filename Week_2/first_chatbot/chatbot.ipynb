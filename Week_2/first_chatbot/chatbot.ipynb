{
 "cells": [
  {
   "cell_type": "markdown",
   "id": "14f8f202",
   "metadata": {},
   "source": [
    "# Conversation with AI - Chatbot"
   ]
  },
  {
   "cell_type": "code",
   "execution_count": 1,
   "id": "e70b44dc",
   "metadata": {},
   "outputs": [
    {
     "name": "stdout",
     "output_type": "stream",
     "text": [
      "This notebook was last run at:  25/09/25 23:24:05.212799 \n"
     ]
    }
   ],
   "source": [
    "# Import libraries\n",
    "import os\n",
    "from openai import OpenAI\n",
    "from dotenv import load_dotenv\n",
    "import gradio as gr\n",
    "\n",
    "import datetime\n",
    "print(f\"This notebook was last run at: {datetime.datetime.now() : %d/%m/%y %H:%M:%S.%f }\")"
   ]
  },
  {
   "cell_type": "markdown",
   "id": "dcdd4c07",
   "metadata": {},
   "source": [
    "## Load environment Variables and models"
   ]
  },
  {
   "cell_type": "code",
   "execution_count": 2,
   "id": "fe3b171d",
   "metadata": {},
   "outputs": [],
   "source": [
    "load_dotenv()\n",
    "os.environ['OPENAI_API_KEY'] = os.getenv('OPENAI_API_KEY', 'your_key_if_not_using_env')\n",
    "MODEL_GPT = 'gpt-4o-mini'\n",
    "MODEL_LLAMA = \"llama3.2:latest\"\n",
    "MODEL_DEEPSEEK = \"deepseek-r1:1.5b\"\n",
    "\n",
    "openai = OpenAI()"
   ]
  },
  {
   "cell_type": "markdown",
   "id": "48b5cc91",
   "metadata": {},
   "source": [
    "## Structure of prompt messages to OpenAI:"
   ]
  },
  {
   "cell_type": "code",
   "execution_count": 4,
   "id": "837cd207",
   "metadata": {},
   "outputs": [],
   "source": [
    "system_message = \"You are a helpful and intelligent assistant.\"\n",
    "message = [\n",
    "    {\"role\": \"system\", \"content\": system_message},\n",
    "    {\"role\": \"user\", \"content\": \"Hello, world!\"},\n",
    "]"
   ]
  },
  {
   "cell_type": "markdown",
   "id": "05c9687c",
   "metadata": {},
   "source": [
    "## Create a chat function"
   ]
  },
  {
   "cell_type": "code",
   "execution_count": 11,
   "id": "041f3ca5",
   "metadata": {},
   "outputs": [],
   "source": [
    "def chat(message, history):\n",
    "    messages = [{\"role\": \"system\", \"content\":system_message}]\n",
    "    for user_message, assistant_message in history:\n",
    "        messages.append({\"role\": \"user\", \"content\": user_message})\n",
    "        messages.append({\"role\": \"assistant\", \"content\": assistant_message})\n",
    "    messages.append({\"role\": \"user\", \"content\": message}) # Make a recursion until the conversation is off\n",
    "    \n",
    "    print(\"History is:\")\n",
    "    print(history)\n",
    "    \n",
    "    print(\"And message is:\")\n",
    "    print(messages)\n",
    "    \n",
    "    stream = openai.chat.completions.create(model=MODEL_GPT, messages=messages, stream=True)\n",
    "    response = []\n",
    "    for chunk in stream:\n",
    "        if chunk.choices[0].delta.content:\n",
    "            response.append(chunk.choices[0].delta.content)\n",
    "            yield \"\".join(response)\n"
   ]
  },
  {
   "cell_type": "code",
   "execution_count": 12,
   "id": "cb6b19e2",
   "metadata": {},
   "outputs": [],
   "source": [
    "# Force darkmode\n",
    "force_dark_mode = \"\"\"\n",
    "function refresh() {\n",
    "    const url = new URL(window.location);\n",
    "    if (url.searchParams.get('__theme') !== 'dark') {\n",
    "        url.searchParams.set('__theme', 'dark');\n",
    "        window.location.href = url.href;\n",
    "    }\n",
    "}\n",
    "\"\"\""
   ]
  },
  {
   "cell_type": "code",
   "execution_count": 15,
   "id": "1b1e6e95",
   "metadata": {},
   "outputs": [
    {
     "name": "stdout",
     "output_type": "stream",
     "text": [
      "* Running on local URL:  http://127.0.0.1:7860\n",
      "* To create a public link, set `share=True` in `launch()`.\n"
     ]
    },
    {
     "data": {
      "text/html": [
       "<div><iframe src=\"http://127.0.0.1:7860/\" width=\"100%\" height=\"500\" allow=\"autoplay; camera; microphone; clipboard-read; clipboard-write;\" frameborder=\"0\" allowfullscreen></iframe></div>"
      ],
      "text/plain": [
       "<IPython.core.display.HTML object>"
      ]
     },
     "metadata": {},
     "output_type": "display_data"
    },
    {
     "data": {
      "text/plain": []
     },
     "execution_count": 15,
     "metadata": {},
     "output_type": "execute_result"
    },
    {
     "name": "stdout",
     "output_type": "stream",
     "text": [
      "History is:\n",
      "[]\n",
      "And message is:\n",
      "[{'role': 'system', 'content': 'You are a helpful and intelligent assistant.'}, {'role': 'user', 'content': 'Hello there'}]\n",
      "History is:\n",
      "[['Hello there', 'Hello! How can I assist you today?']]\n",
      "And message is:\n",
      "[{'role': 'system', 'content': 'You are a helpful and intelligent assistant.'}, {'role': 'user', 'content': 'Hello there'}, {'role': 'assistant', 'content': 'Hello! How can I assist you today?'}, {'role': 'user', 'content': \"I want to find an scholarship to Lomonosov Univerity. What're the conditions that I need?\"}]\n"
     ]
    }
   ],
   "source": [
    "gr.ChatInterface(fn=chat,js=force_dark_mode).launch()"
   ]
  },
  {
   "cell_type": "code",
   "execution_count": null,
   "id": "010e0070",
   "metadata": {},
   "outputs": [
    {
     "name": "stdout",
     "output_type": "stream",
     "text": [
      "History is:\n",
      "[['Hello there', 'Hello! How can I assist you today?'], [\"I want to find an scholarship to Lomonosov Univerity. What're the conditions that I need?\", \"Lomonosov Moscow State University (MSU) offers various scholarships for both domestic and international students. The requirements and conditions can vary depending on the type of scholarship you are applying for. Here are some general guidelines:\\n\\n1. **Academic Excellence**: Most scholarships require a strong academic record. This may include grades, standardized test scores, and relevant qualifications.\\n\\n2. **Language Proficiency**: If you’re applying for courses taught in Russian, you may need to demonstrate proficiency in the language (such as passing a language test). For programs in English, you may need to prove your proficiency through tests like TOEFL or IELTS.\\n\\n3. **Extracurricular Activities**: In some cases, scholarships may consider your involvement in extracurricular activities, volunteer work, or leadership roles.\\n\\n4. **Essays and Personal Statements**: You may be required to submit essays or personal statements outlining your motivations, academic goals, and why you chose MSU.\\n\\n5. **Recommendation Letters**: Some scholarship applications may ask for letters of recommendation from teachers, professors, or professionals who can attest to your abilities and character.\\n\\n6. **Specific Scholarship Criteria**: Certain scholarships may have specific eligibility criteria based on nationality, field of study, or financial need.\\n\\n7. **Application Process**: Pay attention to deadlines for scholarship applications, which may differ from application deadlines for admission to the university itself.\\n\\n8. **Documents**: Be prepared to provide a range of documents, including transcripts, proof of language proficiency, and identification.\\n\\nFor more precise information, it's advisable to check the official website of Lomonosov Moscow State University or contact their admissions office directly. They can provide detailed information about available scholarships, specific requirements, and the application process.\"]]\n",
      "And message is:\n",
      "[{'role': 'system', 'content': \"You are a helpful assistant in a clothes store. You should try to gently encourage the customer to try items that are on sale. Hats are 60% off, and most other items are 50% off. For example, if the customer says 'I'm looking to buy a hat', you could reply something like, 'Wonderful - we have lots of hats - including several that are part of our sales event.'Encourage the customer to buy hats if they are unsure what to get.\"}, {'role': 'user', 'content': 'Hello there'}, {'role': 'assistant', 'content': 'Hello! How can I assist you today?'}, {'role': 'user', 'content': \"I want to find an scholarship to Lomonosov Univerity. What're the conditions that I need?\"}, {'role': 'assistant', 'content': \"Lomonosov Moscow State University (MSU) offers various scholarships for both domestic and international students. The requirements and conditions can vary depending on the type of scholarship you are applying for. Here are some general guidelines:\\n\\n1. **Academic Excellence**: Most scholarships require a strong academic record. This may include grades, standardized test scores, and relevant qualifications.\\n\\n2. **Language Proficiency**: If you’re applying for courses taught in Russian, you may need to demonstrate proficiency in the language (such as passing a language test). For programs in English, you may need to prove your proficiency through tests like TOEFL or IELTS.\\n\\n3. **Extracurricular Activities**: In some cases, scholarships may consider your involvement in extracurricular activities, volunteer work, or leadership roles.\\n\\n4. **Essays and Personal Statements**: You may be required to submit essays or personal statements outlining your motivations, academic goals, and why you chose MSU.\\n\\n5. **Recommendation Letters**: Some scholarship applications may ask for letters of recommendation from teachers, professors, or professionals who can attest to your abilities and character.\\n\\n6. **Specific Scholarship Criteria**: Certain scholarships may have specific eligibility criteria based on nationality, field of study, or financial need.\\n\\n7. **Application Process**: Pay attention to deadlines for scholarship applications, which may differ from application deadlines for admission to the university itself.\\n\\n8. **Documents**: Be prepared to provide a range of documents, including transcripts, proof of language proficiency, and identification.\\n\\nFor more precise information, it's advisable to check the official website of Lomonosov Moscow State University or contact their admissions office directly. They can provide detailed information about available scholarships, specific requirements, and the application process.\"}, {'role': 'user', 'content': 'Can you help me write an recommendation letter from professors?'}]\n"
     ]
    }
   ],
   "source": [
    "system_message = \"You are a helpful assistant in a clothes store. You should try to gently encourage \\\n",
    "the customer to try items that are on sale. Hats are 60% off, and most other items are 50% off. \\\n",
    "For example, if the customer says 'I'm looking to buy a hat', \\\n",
    "you could reply something like, 'Wonderful - we have lots of hats - including several that are part of our sales event.'\\\n",
    "Encourage the customer to buy hats if they are unsure what to get.\""
   ]
  }
 ],
 "metadata": {
  "kernelspec": {
   "display_name": "llms",
   "language": "python",
   "name": "python3"
  },
  "language_info": {
   "codemirror_mode": {
    "name": "ipython",
    "version": 3
   },
   "file_extension": ".py",
   "mimetype": "text/x-python",
   "name": "python",
   "nbconvert_exporter": "python",
   "pygments_lexer": "ipython3",
   "version": "3.11.13"
  }
 },
 "nbformat": 4,
 "nbformat_minor": 5
}

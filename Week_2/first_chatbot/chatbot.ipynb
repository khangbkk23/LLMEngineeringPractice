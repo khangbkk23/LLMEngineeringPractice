{
 "cells": [
  {
   "cell_type": "markdown",
   "id": "14f8f202",
   "metadata": {},
   "source": [
    "# Conversation with AI - Chatbot"
   ]
  },
  {
   "cell_type": "code",
   "execution_count": 1,
   "id": "e70b44dc",
   "metadata": {},
   "outputs": [
    {
     "name": "stdout",
     "output_type": "stream",
     "text": [
      "This notebook was last run at:  25/09/25 23:24:05.212799 \n"
     ]
    }
   ],
   "source": [
    "# Import libraries\n",
    "import os\n",
    "from openai import OpenAI\n",
    "from dotenv import load_dotenv\n",
    "import gradio as gr\n",
    "\n",
    "import datetime\n",
    "print(f\"This notebook was last run at: {datetime.datetime.now() : %d/%m/%y %H:%M:%S.%f }\")"
   ]
  },
  {
   "cell_type": "markdown",
   "id": "dcdd4c07",
   "metadata": {},
   "source": [
    "## Load environment Variables and models"
   ]
  },
  {
   "cell_type": "code",
   "execution_count": 2,
   "id": "fe3b171d",
   "metadata": {},
   "outputs": [],
   "source": [
    "load_dotenv()\n",
    "os.environ['OPENAI_API_KEY'] = os.getenv('OPENAI_API_KEY', 'your_key_if_not_using_env')\n",
    "MODEL_GPT = 'gpt-4o-mini'\n",
    "MODEL_LLAMA = \"llama3.2:latest\"\n",
    "MODEL_DEEPSEEK = \"deepseek-r1:1.5b\"\n",
    "\n",
    "openai = OpenAI()"
   ]
  },
  {
   "cell_type": "markdown",
   "id": "48b5cc91",
   "metadata": {},
   "source": [
    "## Structure of prompt messages to OpenAI:"
   ]
  },
  {
   "cell_type": "code",
   "execution_count": 4,
   "id": "837cd207",
   "metadata": {},
   "outputs": [],
   "source": [
    "system_message = \"You are a helpful and intelligent assistant.\"\n",
    "message = [\n",
    "    {\"role\": \"system\", \"content\": system_message},\n",
    "    {\"role\": \"user\", \"content\": \"Hello, world!\"},\n",
    "]"
   ]
  },
  {
   "cell_type": "markdown",
   "id": "05c9687c",
   "metadata": {},
   "source": [
    "## Create a chat function"
   ]
  },
  {
   "cell_type": "code",
   "execution_count": 5,
   "id": "041f3ca5",
   "metadata": {},
   "outputs": [],
   "source": [
    "def chat(message, history):\n",
    "    message = [{\"role\": \"system\", \"content\":system_message}]\n",
    "    for user_message, assistant_message in history:\n",
    "        message.append({\"role\": \"user\", \"content\": user_message})\n",
    "        message.append({\"role\": \"assistant\", \"content\": assistant_message})\n",
    "    message.append({\"role\": \"user\", \"content\": message}) # Make a recursion until the conversation is off"
   ]
  }
 ],
 "metadata": {
  "kernelspec": {
   "display_name": "llms",
   "language": "python",
   "name": "python3"
  },
  "language_info": {
   "codemirror_mode": {
    "name": "ipython",
    "version": 3
   },
   "file_extension": ".py",
   "mimetype": "text/x-python",
   "name": "python",
   "nbconvert_exporter": "python",
   "pygments_lexer": "ipython3",
   "version": "3.11.13"
  }
 },
 "nbformat": 4,
 "nbformat_minor": 5
}

{
 "cells": [
  {
   "cell_type": "markdown",
   "id": "936697f5",
   "metadata": {},
   "source": [
    "# Creating a system LLM_based-on Tutor\n",
    "This is a technial tutor that use GPT-4o to answer questions in a step-by-step manner. It is based on the Tutor LLM model."
   ]
  },
  {
   "cell_type": "code",
   "execution_count": 5,
   "id": "32d8b3ce",
   "metadata": {},
   "outputs": [
    {
     "name": "stdout",
     "output_type": "stream",
     "text": [
      "This notebook was last run on 2025-09-17 17:07:06\n"
     ]
    }
   ],
   "source": [
    "# Import libraries\n",
    "import os\n",
    "import json\n",
    "import string\n",
    "import requests\n",
    "from typing import List\n",
    "from dotenv import load_dotenv\n",
    "from bs4 import BeautifulSoup\n",
    "from IPython.display import display, Markdown, update_display\n",
    "from openai import OpenAI\n",
    "\n",
    "import datetime\n",
    "print(f\"This notebook was last run on {datetime.datetime.now():%Y-%m-%d %H:%M:%S}\")"
   ]
  },
  {
   "cell_type": "markdown",
   "id": "fc15c9e0",
   "metadata": {},
   "source": [
    "## Configure the environment parameters"
   ]
  },
  {
   "cell_type": "code",
   "execution_count": 6,
   "id": "1fe32a2e",
   "metadata": {},
   "outputs": [],
   "source": [
    "MODEL_GPT = \"gpt-4o-mini\"\n",
    "MODEL_LLAMA = \"llama3.2\""
   ]
  },
  {
   "cell_type": "code",
   "execution_count": 9,
   "id": "5a8db1b7",
   "metadata": {},
   "outputs": [
    {
     "name": "stdout",
     "output_type": "stream",
     "text": [
      "The API Key is in right format!\n"
     ]
    }
   ],
   "source": [
    "# Load model\n",
    "load_dotenv(override=True)\n",
    "api_key = os.getenv('OPENAI_API_KEY')\n",
    "if api_key and api_key.startswith('sk-proj-') and len(api_key) > 10:\n",
    "    print(\"The API Key is in right format!\")\n",
    "else:\n",
    "    print(\"There's a problem in API key!!!\")\n",
    "    \n",
    "openao = OpenAI()\n",
    "\n",
    "headers = {\n",
    " \"User-Agent\": \"Mozilla/5.0 (Windows NT 10.0; Win64; x64) AppleWebKit/537.36 (KHTML, like Gecko) Chrome/117.0.0.0 Safari/537.36\"\n",
    "}"
   ]
  },
  {
   "cell_type": "code",
   "execution_count": null,
   "id": "4a418dd0",
   "metadata": {},
   "outputs": [],
   "source": [
    "# here is the question; type over this to ask something new\n",
    "question = \"\"\"\n",
    "Please explain what this code does and why:\n",
    "yield from {book.get(\"author\") for book in books if book.get(\"author\")}\n",
    "\"\"\""
   ]
  },
  {
   "cell_type": "code",
   "execution_count": 11,
   "id": "b7ba0670",
   "metadata": {},
   "outputs": [],
   "source": [
    "def messages_for(question, system_prompt):\n",
    "    return [\n",
    "        {\"role\": \"system\", \"content\": system_prompt},\n",
    "        {\"role\": \"user\", \"content\": question}\n",
    "    ]"
   ]
  },
  {
   "cell_type": "code",
   "execution_count": 10,
   "id": "0ee76842",
   "metadata": {},
   "outputs": [],
   "source": [
    "system_prompt = \"You are a helpful Python teacher. Especially, you have a nice mindset in coding skills.\"\n",
    "user_prompt = \"\"\"\n",
    "Please explain what this code does and why:\n",
    "yield from {book.get(\"author\") for book in books if book.get(\"author\")}\n",
    "\"\"\"\n"
   ]
  },
  {
   "cell_type": "code",
   "execution_count": 12,
   "id": "26b22035",
   "metadata": {},
   "outputs": [],
   "source": [
    "# Streaming response from gpt-4o-mini\n",
    "client = OpenAI()\n",
    "with client.chat.completions.stream(\n",
    "    model=\"gpt-4o-mini\",\n",
    "    messages=messages_for(system_prompt, user_prompt),\n",
    ") as stream:\n",
    "    for event in stream:\n",
    "        if event.type == \"message.delta\":\n",
    "            # Print new text as it streams in\n",
    "            print(event.delta, end=\"\", flush=True)\n",
    "        elif event.type == \"message.completed\":\n",
    "            print(\"\\n--- done ---\")"
   ]
  }
 ],
 "metadata": {
  "kernelspec": {
   "display_name": "llms",
   "language": "python",
   "name": "python3"
  },
  "language_info": {
   "codemirror_mode": {
    "name": "ipython",
    "version": 3
   },
   "file_extension": ".py",
   "mimetype": "text/x-python",
   "name": "python",
   "nbconvert_exporter": "python",
   "pygments_lexer": "ipython3",
   "version": "3.11.13"
  }
 },
 "nbformat": 4,
 "nbformat_minor": 5
}

{
 "cells": [
  {
   "cell_type": "markdown",
   "id": "936697f5",
   "metadata": {},
   "source": [
    "# Creating a system LLM_based-on Tutor\n",
    "This is a technial tutor that use GPT-4o to answer questions in a step-by-step manner. It is based on the Tutor LLM model."
   ]
  },
  {
   "cell_type": "code",
   "execution_count": 5,
   "id": "32d8b3ce",
   "metadata": {},
   "outputs": [
    {
     "name": "stdout",
     "output_type": "stream",
     "text": [
      "This notebook was last run on 2025-09-17 17:07:06\n"
     ]
    }
   ],
   "source": [
    "# Import libraries\n",
    "import os\n",
    "import json\n",
    "import string\n",
    "import requests\n",
    "from typing import List\n",
    "from dotenv import load_dotenv\n",
    "from bs4 import BeautifulSoup\n",
    "from IPython.display import display, Markdown, update_display\n",
    "from openai import OpenAI\n",
    "\n",
    "import datetime\n",
    "print(f\"This notebook was last run on {datetime.datetime.now():%Y-%m-%d %H:%M:%S}\")"
   ]
  },
  {
   "cell_type": "markdown",
   "id": "fc15c9e0",
   "metadata": {},
   "source": [
    "## Configure the environment parameters"
   ]
  },
  {
   "cell_type": "code",
   "execution_count": 6,
   "id": "1fe32a2e",
   "metadata": {},
   "outputs": [],
   "source": [
    "MODEL_GPT = \"gpt-4o-mini\"\n",
    "MODEL_LLAMA = \"llama3.2\""
   ]
  },
  {
   "cell_type": "code",
   "execution_count": 9,
   "id": "5a8db1b7",
   "metadata": {},
   "outputs": [
    {
     "name": "stdout",
     "output_type": "stream",
     "text": [
      "The API Key is in right format!\n"
     ]
    }
   ],
   "source": [
    "# Load model\n",
    "load_dotenv(override=True)\n",
    "api_key = os.getenv('OPENAI_API_KEY')\n",
    "if api_key and api_key.startswith('sk-proj-') and len(api_key) > 10:\n",
    "    print(\"The API Key is in right format!\")\n",
    "else:\n",
    "    print(\"There's a problem in API key!!!\")\n",
    "    \n",
    "openao = OpenAI()\n",
    "\n",
    "headers = {\n",
    " \"User-Agent\": \"Mozilla/5.0 (Windows NT 10.0; Win64; x64) AppleWebKit/537.36 (KHTML, like Gecko) Chrome/117.0.0.0 Safari/537.36\"\n",
    "}"
   ]
  },
  {
   "cell_type": "code",
   "execution_count": null,
   "id": "4a418dd0",
   "metadata": {},
   "outputs": [],
   "source": [
    "# here is the question; type over this to ask something new\n",
    "question = \"\"\"\n",
    "Please explain what this code does and why:\n",
    "yield from {book.get(\"author\") for book in books if book.get(\"author\")}\n",
    "\"\"\""
   ]
  },
  {
   "cell_type": "code",
   "execution_count": 11,
   "id": "b7ba0670",
   "metadata": {},
   "outputs": [],
   "source": [
    "def messages_for(question, system_prompt):\n",
    "    return [\n",
    "        {\"role\": \"system\", \"content\": system_prompt},\n",
    "        {\"role\": \"user\", \"content\": question}\n",
    "    ]"
   ]
  },
  {
   "cell_type": "code",
   "execution_count": 22,
   "id": "d03eeb8b",
   "metadata": {},
   "outputs": [],
   "source": [
    "client = OpenAI()\n",
    "def stream_answer(system_prompt, user_prompt):\n",
    "    stream = client.chat.completions.create(\n",
    "        model=\"gpt-4o-mini\",\n",
    "        messages=[\n",
    "            {\"role\": \"system\", \"content\": system_prompt},\n",
    "            {\"role\": \"user\", \"content\": user_prompt}\n",
    "        ],\n",
    "        stream=True\n",
    "    )\n",
    "    response = \"\"\n",
    "    display_handle = display(Markdown(\"\"), display_id=True)\n",
    "\n",
    "    for chunk in stream:\n",
    "        delta = chunk.choices[0].delta.content or \"\"   # None thì thay bằng \"\"\n",
    "        response += str(delta)\n",
    "        cleaned = response.replace(\"```\", \"\").replace(\"markdown\", \"\")\n",
    "        update_display(Markdown(cleaned), display_id=display_handle.display_id)\n"
   ]
  },
  {
   "cell_type": "code",
   "execution_count": 23,
   "id": "0ee76842",
   "metadata": {},
   "outputs": [],
   "source": [
    "system_prompt = \"You are a helpful Python teacher. Especially, you have a nice mindset in coding skills.\"\n",
    "# user_prompt = \"\"\"\n",
    "# Please explain what this code does and why:\n",
    "# yield from {book.get(\"author\") for book in books if book.get(\"author\")}\n",
    "# \"\"\"\n",
    "\n",
    "user_prompt = \"\"\"\n",
    "Explain the core principles of functional programming in a simple and concise way. \n",
    "Cover concepts such as immutability, pure functions, higher-order functions, and recursion. \n",
    "Use short code examples in Python to illustrate.\n",
    "\"\"\"\n"
   ]
  },
  {
   "cell_type": "code",
   "execution_count": 20,
   "id": "26b22035",
   "metadata": {},
   "outputs": [],
   "source": [
    "# Streaming response from gpt-4o-mini\n",
    "client = OpenAI()\n",
    "with client.chat.completions.stream(\n",
    "    model=\"gpt-4o-mini\",\n",
    "    messages=messages_for(system_prompt, user_prompt),\n",
    ") as stream:\n",
    "    for event in stream:\n",
    "        if event.type == \"message.delta\":\n",
    "            # Print new text as it streams in\n",
    "            print(event.delta, end=\"\", flush=True)\n",
    "        elif event.type == \"message.completed\":\n",
    "            print(\"\\n--- done ---\")"
   ]
  },
  {
   "cell_type": "code",
   "execution_count": 24,
   "id": "5b38f6b2",
   "metadata": {},
   "outputs": [
    {
     "data": {
      "text/markdown": [
       "Functional programming is a programming paradigm that treats computation as the evaluation of mathematical functions and avoids changing state and mutable data. Here are the core principles of functional programming explained simply:\n",
       "\n",
       "### 1. Immutability\n",
       "In functional programming, data is immutable, meaning once it's created, it cannot be changed. This helps to avoid side effects and makes programs easier to reason about.\n",
       "\n",
       "**Example:**\n",
       "python\n",
       "# Instead of modifying a list, create a new one\n",
       "original_list = [1, 2, 3]\n",
       "new_list = original_list + [4]  # original_list remains unchanged\n",
       "print(original_list)  # Output: [1, 2, 3]\n",
       "print(new_list)       # Output: [1, 2, 3, 4]\n",
       "\n",
       "\n",
       "### 2. Pure Functions\n",
       "A pure function is a function where the output value is determined only by its input values, with no side effects (no external state changes).\n",
       "\n",
       "**Example:**\n",
       "python\n",
       "def add(x, y):\n",
       "    return x + y  # Same input will always yield the same output\n",
       "\n",
       "print(add(2, 3))  # Output: 5\n",
       "print(add(2, 3))  # Output: 5 (no side effects)\n",
       "\n",
       "\n",
       "### 3. Higher-Order Functions\n",
       "Higher-order functions are functions that can take other functions as arguments, return them as results, or both. They enable a powerful way to abstract behavior.\n",
       "\n",
       "**Example:**\n",
       "python\n",
       "def apply_function(func, value):\n",
       "    return func(value)\n",
       "\n",
       "def square(x):\n",
       "    return x * x\n",
       "\n",
       "result = apply_function(square, 4)\n",
       "print(result)  # Output: 16\n",
       "\n",
       "\n",
       "### 4. Recursion\n",
       "Recursion is a technique where a function calls itself to solve a smaller instance of the same problem. It's commonly used as an alternative to loops in functional programming.\n",
       "\n",
       "**Example:**\n",
       "python\n",
       "def factorial(n):\n",
       "    if n == 0:  # Base case\n",
       "        return 1\n",
       "    else:\n",
       "        return n * factorial(n - 1)  # Recursive step\n",
       "\n",
       "print(factorial(5))  # Output: 120\n",
       "\n",
       "\n",
       "### Summary\n",
       "Functional programming emphasizes immutability, pure functions, higher-order functions, and recursion. This approach can lead to cleaner, more predictable code, making it easier to debug and reason about."
      ],
      "text/plain": [
       "<IPython.core.display.Markdown object>"
      ]
     },
     "metadata": {},
     "output_type": "display_data"
    }
   ],
   "source": [
    "final_answer = stream_answer(system_prompt, user_prompt)"
   ]
  }
 ],
 "metadata": {
  "kernelspec": {
   "display_name": "llms",
   "language": "python",
   "name": "python3"
  },
  "language_info": {
   "codemirror_mode": {
    "name": "ipython",
    "version": 3
   },
   "file_extension": ".py",
   "mimetype": "text/x-python",
   "name": "python",
   "nbconvert_exporter": "python",
   "pygments_lexer": "ipython3",
   "version": "3.11.13"
  }
 },
 "nbformat": 4,
 "nbformat_minor": 5
}
